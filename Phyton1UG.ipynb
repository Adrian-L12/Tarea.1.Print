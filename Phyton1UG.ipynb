{
  "nbformat": 4,
  "nbformat_minor": 0,
  "metadata": {
    "colab": {
      "name": "Phyton1UG",
      "provenance": [],
      "toc_visible": true,
      "authorship_tag": "ABX9TyMO0L3zbQxacm9spNIBN7uZ",
      "include_colab_link": true
    },
    "kernelspec": {
      "name": "python3",
      "display_name": "Python 3"
    }
  },
  "cells": [
    {
      "cell_type": "markdown",
      "metadata": {
        "id": "view-in-github",
        "colab_type": "text"
      },
      "source": [
        "<a href=\"https://colab.research.google.com/github/Adrian-L12/Tarea.1.Print/blob/main/Phyton1UG.ipynb\" target=\"_parent\"><img src=\"https://colab.research.google.com/assets/colab-badge.svg\" alt=\"Open In Colab\"/></a>"
      ]
    },
    {
      "cell_type": "markdown",
      "metadata": {
        "id": "GDNZFCeriH8Z"
      },
      "source": [
        "## Tema 02: Imprimir en pantalla"
      ]
    },
    {
      "cell_type": "code",
      "metadata": {
        "id": "B6b0CzbaFlx0",
        "colab": {
          "base_uri": "https://localhost:8080/"
        },
        "outputId": "5a6f39a3-d5b8-409e-f79a-2d0375876548"
      },
      "source": [
        "# Creando una variable string\r\n",
        "Mensaje = \"Hola\"\r\n",
        "#imprimiendo la variable \r\n",
        "print(Mensaje)\r\n",
        "\r\n",
        "print(\"\\tComo estas? \\n \\testoy bien\", Mensaje)\r\n",
        "# \\n es un tabulador de linea\r\n",
        "# \\t es un tabulador"
      ],
      "execution_count": 11,
      "outputs": [
        {
          "output_type": "stream",
          "text": [
            "Hola\n",
            "\tComo estas? \n",
            " \testoy bien Hola\n"
          ],
          "name": "stdout"
        }
      ]
    },
    {
      "cell_type": "code",
      "metadata": {
        "colab": {
          "base_uri": "https://localhost:8080/"
        },
        "id": "DKLhwYkwY1HH",
        "outputId": "51698873-28db-47c7-ed89-5fa964557edb"
      },
      "source": [
        "# Concatenacion de strings \r\n",
        "M_1 = \" Estoy \"\r\n",
        "M_2 = \" Creando \"\r\n",
        "M_3 = \" una clase \"\r\n",
        "M_total = M_1 + M_2 + M_3 \r\n",
        "\r\n",
        "print(M_total)\r\n",
        "print(M_1 + M_2 + M_3 + \" de phyton \")\r\n",
        "\r\n",
        "# no hacer eso para hacer una suma\r\n",
        "Numero_1 = \"1\"\r\n",
        "Numero_2 = \"2\"\r\n",
        "Numero_3 = Numero_1 + Numero_2\r\n",
        "print(Numero_3)\r\n"
      ],
      "execution_count": 19,
      "outputs": [
        {
          "output_type": "stream",
          "text": [
            " Estoy  Creando  una clase \n",
            " Estoy  Creando  una clase  de phyton \n",
            "12\n"
          ],
          "name": "stdout"
        }
      ]
    },
    {
      "cell_type": "code",
      "metadata": {
        "colab": {
          "base_uri": "https://localhost:8080/"
        },
        "id": "k6jIRBTFarjd",
        "outputId": "004977a0-b502-45ce-f35c-3184223bcee0"
      },
      "source": [
        "print(\"cual es tu nombre?\")\r\n",
        "\r\n",
        "# Solicitar al usuario un string\r\n",
        "Nombre = input()\r\n",
        "#print(Nombre)\r\n",
        "Apellido = input(\"¿cual es tu apellido? \")\r\n",
        "print(\"Mi nombre es\", Nombre, Apellido )\r\n"
      ],
      "execution_count": 23,
      "outputs": [
        {
          "output_type": "stream",
          "text": [
            "cual es tu nombre?\n",
            "adrian\n",
            "¿cual es tu apellido? Luna\n",
            "Mi nombre es adrian Luna\n"
          ],
          "name": "stdout"
        }
      ]
    },
    {
      "cell_type": "markdown",
      "metadata": {
        "id": "CpgRNV2piWbx"
      },
      "source": [
        "## Tarea Imprimir pantalla"
      ]
    },
    {
      "cell_type": "code",
      "metadata": {
        "colab": {
          "base_uri": "https://localhost:8080/"
        },
        "id": "J-9bRDvTiasJ",
        "outputId": "bd38ca44-b3dd-4bdd-f262-69c45aae32ce"
      },
      "source": [
        "# Mostramos Mensaje de vienbenida \r\n",
        "Mensaje = \"Hola Usuario\"\r\n",
        "# Preguntamos 1er nombre\r\n",
        "print(Mensaje, \"¿Cual es tu primer nombre?\")\r\n",
        "# El usuario inserta su primer nombre\r\n",
        "Nombre_1 = input()\r\n",
        "# Contastamos y le pedimos su segundo nombre\r\n",
        "print(\"Hola\", Nombre_1, \"¿Cual es tu segundo nombre?\")\r\n",
        "# El usuario inserta su segundo nombre\r\n",
        "Nombre_2 = input()\r\n",
        "# Contestamos y pedimo el primer apellido\r\n",
        "print(\"hola\", Nombre_1, Nombre_2, \"¿Cual es tu apellido Paterno? \")\r\n",
        "# El usuario inserta su apellido Paterno \r\n",
        "Apellido_1 = input()\r\n",
        "# Pedimos el apellido Materno\r\n",
        "print(\"y por ultimo me regalas tu apellido Materno\")\r\n",
        "# El usuario inserta su apellido Materno\r\n",
        "Apellido_2 = input() \r\n",
        "# mostramos su nombre completo con un mensaje de ayuda\r\n",
        "print(\"hola\", Nombre_1, Nombre_2, Apellido_1, Apellido_2, \"¿en que puedo ayudarte?\")"
      ],
      "execution_count": 34,
      "outputs": [
        {
          "output_type": "stream",
          "text": [
            "Hola Usuario ¿Cual es tu primer nombre?\n",
            "jesus\n",
            "Hola jesus ¿Cual es tu segundo nombre?\n",
            "adrian\n",
            "hola jesus adrian ¿Cual es tu apellido Paterno? \n",
            "luna \n",
            "y por ultimo me regalas tu apellido Materno\n",
            "valadez\n",
            "hola jesus adrian luna  valadez ¿en que puedo ayudarte?\n"
          ],
          "name": "stdout"
        }
      ]
    }
  ]
}